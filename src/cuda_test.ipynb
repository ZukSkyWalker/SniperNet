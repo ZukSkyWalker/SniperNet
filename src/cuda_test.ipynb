{
 "cells": [
  {
   "cell_type": "code",
   "execution_count": 1,
   "id": "003e2c65",
   "metadata": {},
   "outputs": [],
   "source": [
    "%load_ext autoreload\n",
    "%autoreload 2\n",
    "\n",
    "import numpy as np\n",
    "import cupy as cp\n",
    "import torch\n",
    "import cv2\n",
    "import os\n",
    "import json\n",
    "import plotly.graph_objects as go\n",
    "\n",
    "from data_process import feature_map"
   ]
  },
  {
   "cell_type": "code",
   "execution_count": 2,
   "id": "f30783a0",
   "metadata": {},
   "outputs": [],
   "source": [
    "with open(\"../cfg/cfg.json\") as f:\n",
    "    cfg = json.load(f)\n",
    "    \n",
    "dataset_dir = cfg['dataset_dir']\n",
    "\n",
    "image_dir = os.path.join(dataset_dir, \"training\", \"image_2\")\n",
    "lidar_dir = os.path.join(dataset_dir, \"training\", \"velodyne\")\n",
    "calib_dir = os.path.join(dataset_dir, \"training\", \"calib\")\n",
    "label_dir = os.path.join(dataset_dir, \"training\", \"label_2\")"
   ]
  },
  {
   "cell_type": "code",
   "execution_count": 3,
   "id": "f1ffe353",
   "metadata": {},
   "outputs": [],
   "source": [
    "def get_lidar(idx):\n",
    "    lidar_file = os.path.join(lidar_dir, f\"{idx:06d}.bin\")\n",
    "    return np.fromfile(lidar_file, dtype=np.float32).reshape(-1, 4)\n",
    "\n",
    "def get_image(idx):\n",
    "    img_path = os.path.join(image_dir, f'{idx:06d}.png')\n",
    "    img = cv2.cvtColor(cv2.imread(img_path), cv2.COLOR_BGR2RGB)\n",
    "\n",
    "    return img_path, img\n",
    "\n",
    "def get_calib(idx):\n",
    "    calib_file = os.path.join(calib_dir, f'{idx:06d}.txt')\n",
    "    # assert os.path.isfile(calib_file)\n",
    "    return Calibration(calib_file)\n",
    "\n",
    "CLASS_NAME_TO_ID = {\n",
    "    'Pedestrian': 0,\n",
    "    'Car': 1,\n",
    "    'Cyclist': 2,\n",
    "    'Van': 1,\n",
    "    'Truck': -3,\n",
    "    'Person_sitting': 0,\n",
    "    'Tram': -99,\n",
    "    'Misc': -99,\n",
    "    'DontCare': -1\n",
    "}\n",
    "\n",
    "def get_label(idx):\n",
    "    labels = []\n",
    "    label_path = os.path.join(label_dir, f'{idx:06d}.txt')\n",
    "    for line in open(label_path, 'r'):\n",
    "        line = line.rstrip()\n",
    "        line_parts = line.split(' ')\n",
    "        obj_name = line_parts[0]  # 'Car', 'Pedestrian', ...\n",
    "        cat_id = int(CLASS_NAME_TO_ID[obj_name])\n",
    "        if cat_id <= -99:  # ignore Tram and Misc\n",
    "            continue\n",
    "        '''\n",
    "        truncated = int(float(line_parts[1]))  # truncated pixel ratio [0..1]\n",
    "        occluded = int(line_parts[2])  # 0=visible, 1=partly occluded, 2=fully occluded, 3=unknown\n",
    "        alpha = float(line_parts[3])  # object observation angle [-pi..pi]\n",
    "        # xmin, ymin, xmax, ymax\n",
    "        bbox = np.array([float(line_parts[4]), float(line_parts[5]), float(line_parts[6]), float(line_parts[7])])\n",
    "        '''\n",
    "\n",
    "        # height, width, length (h, w, l)\n",
    "        h, w, l = float(line_parts[8]), float(line_parts[9]), float(line_parts[10])\n",
    "        # location (x,y,z) in camera coord.\n",
    "        x, y, z = float(line_parts[11]), float(line_parts[12]), float(line_parts[13])\n",
    "        ry = float(line_parts[14])  # yaw angle (around Y-axis in camera coordinates) [-pi..pi]\n",
    "\n",
    "        object_label = [cat_id, x, y, z, h, w, l, ry]\n",
    "        labels.append(object_label)\n",
    "\n",
    "    if len(labels) == 0:\n",
    "        labels = np.zeros((1, 8), dtype=np.float32)\n",
    "        has_labels = False\n",
    "    else:\n",
    "        labels = np.array(labels, dtype=np.float32)\n",
    "        has_labels = True\n",
    "\n",
    "    return labels, has_labels"
   ]
  },
  {
   "cell_type": "code",
   "execution_count": 4,
   "id": "4b72f8f5",
   "metadata": {},
   "outputs": [],
   "source": [
    "f_idx = 7\n",
    "point_cloud = get_lidar(f_idx)\n",
    "label = get_label(f_idx)"
   ]
  },
  {
   "cell_type": "code",
   "execution_count": 5,
   "id": "46077364",
   "metadata": {
    "scrolled": false
   },
   "outputs": [
    {
     "name": "stdout",
     "output_type": "stream",
     "text": [
      "Function 'get_base' executed in 0.0168s\n"
     ]
    }
   ],
   "source": [
    "frm = feature_map.frame(point_cloud, cfg)"
   ]
  },
  {
   "cell_type": "code",
   "execution_count": 6,
   "id": "5f277b88",
   "metadata": {},
   "outputs": [
    {
     "data": {
      "text/plain": [
       "-1.75"
      ]
     },
     "execution_count": 6,
     "metadata": {},
     "output_type": "execute_result"
    }
   ],
   "source": [
    "frm.base"
   ]
  },
  {
   "cell_type": "markdown",
   "id": "1d0b2639",
   "metadata": {},
   "source": [
    "### Read kernel code"
   ]
  },
  {
   "cell_type": "code",
   "execution_count": null,
   "id": "cd3ab9e0",
   "metadata": {},
   "outputs": [],
   "source": [
    "with open(\"grid_kernel.cu\") as f:\n",
    "    kernel_code = f.read()"
   ]
  },
  {
   "cell_type": "code",
   "execution_count": null,
   "id": "e69db31c",
   "metadata": {},
   "outputs": [],
   "source": [
    "kernel_code"
   ]
  },
  {
   "cell_type": "code",
   "execution_count": null,
   "id": "c5ee7c6c",
   "metadata": {},
   "outputs": [],
   "source": []
  },
  {
   "cell_type": "code",
   "execution_count": null,
   "id": "05836c03",
   "metadata": {},
   "outputs": [],
   "source": [
    "with open(\"grid_kernel.cu\") as f:\n",
    "    kernel_code = f.read()\n",
    "\n",
    "module = cp.RawModule(code=kernel_code, options=('--std=c++11',))\n",
    "compute_grid_info = module.get_function('compute_grid_info')"
   ]
  },
  {
   "cell_type": "code",
   "execution_count": null,
   "id": "a9ce9898",
   "metadata": {},
   "outputs": [],
   "source": [
    "pos = point_cloud[point_cloud]"
   ]
  },
  {
   "cell_type": "code",
   "execution_count": null,
   "id": "c02d973b",
   "metadata": {},
   "outputs": [],
   "source": []
  },
  {
   "cell_type": "code",
   "execution_count": null,
   "id": "f242b314",
   "metadata": {},
   "outputs": [],
   "source": []
  },
  {
   "cell_type": "code",
   "execution_count": null,
   "id": "afcba47d",
   "metadata": {},
   "outputs": [],
   "source": [
    "frm.set_bev_map()"
   ]
  },
  {
   "cell_type": "code",
   "execution_count": null,
   "id": "59169b81",
   "metadata": {},
   "outputs": [],
   "source": []
  },
  {
   "cell_type": "code",
   "execution_count": null,
   "id": "e52c3c8d",
   "metadata": {},
   "outputs": [],
   "source": []
  },
  {
   "cell_type": "code",
   "execution_count": null,
   "id": "022f721a",
   "metadata": {},
   "outputs": [],
   "source": []
  },
  {
   "cell_type": "code",
   "execution_count": null,
   "id": "fefce22b",
   "metadata": {},
   "outputs": [],
   "source": []
  },
  {
   "cell_type": "code",
   "execution_count": null,
   "id": "8661e4b1",
   "metadata": {},
   "outputs": [],
   "source": [
    "idx_x = 0.5 * (frm.pos[:, 0] + cfg[\"x_range\"]) * cfg[\"NX\"] / cfg[\"x_range\"]"
   ]
  },
  {
   "cell_type": "code",
   "execution_count": null,
   "id": "1c2b1da7",
   "metadata": {},
   "outputs": [],
   "source": [
    "idx_x.int()"
   ]
  },
  {
   "cell_type": "code",
   "execution_count": null,
   "id": "a49b57fa",
   "metadata": {},
   "outputs": [],
   "source": []
  }
 ],
 "metadata": {
  "kernelspec": {
   "display_name": "Python 3 (ipykernel)",
   "language": "python",
   "name": "python3"
  },
  "language_info": {
   "codemirror_mode": {
    "name": "ipython",
    "version": 3
   },
   "file_extension": ".py",
   "mimetype": "text/x-python",
   "name": "python",
   "nbconvert_exporter": "python",
   "pygments_lexer": "ipython3",
   "version": "3.10.12"
  }
 },
 "nbformat": 4,
 "nbformat_minor": 5
}
