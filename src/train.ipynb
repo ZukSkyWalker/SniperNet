{
 "cells": [
  {
   "cell_type": "code",
   "execution_count": 1,
   "id": "17971987",
   "metadata": {},
   "outputs": [],
   "source": [
    "%load_ext autoreload\n",
    "%autoreload 2\n",
    "\n",
    "import torch\n",
    "from data_process.kitti_dataloader import create_train_dataloader, create_val_dataloader, create_test_dataloader\n",
    "import json\n",
    "import tqdm\n",
    "\n",
    "from models import fpn_resnet"
   ]
  },
  {
   "cell_type": "code",
   "execution_count": 2,
   "id": "3cd4fe6a",
   "metadata": {},
   "outputs": [],
   "source": [
    "with open(\"../cfg/cfg.json\") as f:\n",
    "    configs = json.load(f)"
   ]
  },
  {
   "cell_type": "code",
   "execution_count": 3,
   "id": "abb3ae98",
   "metadata": {},
   "outputs": [
    {
     "data": {
      "text/plain": [
       "{'dataset_dir': '../dataset/kitti/',\n",
       " 'NX': 1280,\n",
       " 'NY': 1280,\n",
       " 'minX': 0,\n",
       " 'maxX': 50,\n",
       " 'minY': -25,\n",
       " 'maxY': 25,\n",
       " 'minZ': -2.73,\n",
       " 'maxZ': 1.27,\n",
       " 'x_range': 64,\n",
       " 'y_range': 64,\n",
       " 'z_min': -3,\n",
       " 'z_max': 6,\n",
       " 'h_range': 5.5,\n",
       " 'lidar_height': 1.5,\n",
       " 'sig_height_range': 2,\n",
       " 'z_range': 5,\n",
       " 'dz': 0.05,\n",
       " 'max_z_gap': 0.5,\n",
       " 'min_ground_ratio': 0.0005,\n",
       " 'min_ground_layer_pts': 10,\n",
       " 'num_classes': 4,\n",
       " 'max_objects': 200,\n",
       " 'num_samples': -1,\n",
       " 'num_workers': 4,\n",
       " 'pin_memory': True,\n",
       " 'batch_size': 16,\n",
       " 'distributed': False}"
      ]
     },
     "execution_count": 3,
     "metadata": {},
     "output_type": "execute_result"
    }
   ],
   "source": [
    "configs"
   ]
  },
  {
   "cell_type": "markdown",
   "id": "06672b6a",
   "metadata": {},
   "source": [
    "### 1. Model\n",
    "\n",
    "Try fpn_resnet_18 for default.\n",
    "\n",
    "* model:      fpn_resnet\n",
    "* num_layers: 18\n",
    "* heads:      configs.heads = {\n",
    "        'hm_cen': configs.num_classes,\n",
    "        'cen_offset': configs.num_center_offset,\n",
    "        'direction': configs.num_direction,\n",
    "        'z_coor': configs.num_z,\n",
    "        'dim': configs.num_dim\n",
    "    }\n",
    "    \n",
    "* head_conv:  64\n",
    "\n",
    "* configs.imagenet_pretrained = True\n",
    "* configs.head_conv = 64\n",
    "* configs.num_classes = 3\n",
    "* configs.num_center_offset = 2\n",
    "* configs.num_z = 1\n",
    "* configs.num_dim = 3\n",
    "* configs.num_direction = 2  # sin, cos\n"
   ]
  },
  {
   "cell_type": "code",
   "execution_count": 16,
   "id": "9903e49c",
   "metadata": {},
   "outputs": [
    {
     "name": "stdout",
     "output_type": "stream",
     "text": [
      "=> loading pretrained model https://download.pytorch.org/models/resnet18-5c106cde.pth\n"
     ]
    }
   ],
   "source": [
    "configs['batch_size'] = 1\n",
    "configs['num_workers'] = 1\n",
    "heads_cfg = {'hm_cen': 3, 'cen_offset': 2, 'direction': 2, 'z_coor': 1, 'dim': 3}\n",
    "model = fpn_resnet.get_pose_net(num_layers=18, heads=heads_cfg, head_conv=64, imagenet_pretrained=True)"
   ]
  },
  {
   "cell_type": "code",
   "execution_count": 5,
   "id": "49e9893f",
   "metadata": {},
   "outputs": [
    {
     "name": "stdout",
     "output_type": "stream",
     "text": [
      "0 torch.Size([1, 3, 608, 608])\n",
      "input_h=608, input_w=608\n",
      "x shape:  torch.Size([1, 3, 608, 608])\n",
      "after conv1 torch.Size([1, 64, 304, 304])\n",
      "after bn1 torch.Size([1, 64, 304, 304])\n",
      "after relu torch.Size([1, 64, 304, 304])\n",
      "after maxpool torch.Size([1, 64, 152, 152])\n",
      "out_layer1 shape: torch.Size([1, 64, 152, 152])\n",
      "out_layer2 shape: torch.Size([1, 128, 76, 76])\n",
      "out_layer3 shape: torch.Size([1, 256, 38, 38])\n",
      "out_layer4 shape: torch.Size([1, 512, 19, 19])\n",
      "up_layer1 shape: torch.Size([1, 512, 38, 38]) ; out_layer3 torch.Size([1, 256, 38, 38])\n",
      "hm_cen torch.Size([1, 3, 152, 152])\n",
      "cen_offset torch.Size([1, 2, 152, 152])\n",
      "direction torch.Size([1, 2, 152, 152])\n",
      "z_coor torch.Size([1, 1, 152, 152])\n",
      "dim torch.Size([1, 3, 152, 152])\n",
      "1 torch.Size([1, 3, 608, 608])\n",
      "input_h=608, input_w=608\n",
      "x shape:  torch.Size([1, 3, 608, 608])\n",
      "after conv1 torch.Size([1, 64, 304, 304])\n",
      "after bn1 torch.Size([1, 64, 304, 304])\n",
      "after relu torch.Size([1, 64, 304, 304])\n",
      "after maxpool torch.Size([1, 64, 152, 152])\n",
      "out_layer1 shape: torch.Size([1, 64, 152, 152])\n",
      "out_layer2 shape: torch.Size([1, 128, 76, 76])\n",
      "out_layer3 shape: torch.Size([1, 256, 38, 38])\n",
      "out_layer4 shape: torch.Size([1, 512, 19, 19])\n",
      "up_layer1 shape: torch.Size([1, 512, 38, 38]) ; out_layer3 torch.Size([1, 256, 38, 38])\n",
      "hm_cen torch.Size([1, 3, 152, 152])\n",
      "cen_offset torch.Size([1, 2, 152, 152])\n",
      "direction torch.Size([1, 2, 152, 152])\n",
      "z_coor torch.Size([1, 1, 152, 152])\n",
      "dim torch.Size([1, 3, 152, 152])\n",
      "2 torch.Size([1, 3, 608, 608])\n",
      "input_h=608, input_w=608\n",
      "x shape:  torch.Size([1, 3, 608, 608])\n",
      "after conv1 torch.Size([1, 64, 304, 304])\n",
      "after bn1 torch.Size([1, 64, 304, 304])\n",
      "after relu torch.Size([1, 64, 304, 304])\n",
      "after maxpool torch.Size([1, 64, 152, 152])\n",
      "out_layer1 shape: torch.Size([1, 64, 152, 152])\n",
      "out_layer2 shape: torch.Size([1, 128, 76, 76])\n",
      "out_layer3 shape: torch.Size([1, 256, 38, 38])\n",
      "out_layer4 shape: torch.Size([1, 512, 19, 19])\n",
      "up_layer1 shape: torch.Size([1, 512, 38, 38]) ; out_layer3 torch.Size([1, 256, 38, 38])\n",
      "hm_cen torch.Size([1, 3, 152, 152])\n",
      "cen_offset torch.Size([1, 2, 152, 152])\n",
      "direction torch.Size([1, 2, 152, 152])\n",
      "z_coor torch.Size([1, 1, 152, 152])\n",
      "dim torch.Size([1, 3, 152, 152])\n",
      "3 torch.Size([1, 3, 608, 608])\n",
      "input_h=608, input_w=608\n",
      "x shape:  torch.Size([1, 3, 608, 608])\n",
      "after conv1 torch.Size([1, 64, 304, 304])\n",
      "after bn1 torch.Size([1, 64, 304, 304])\n",
      "after relu torch.Size([1, 64, 304, 304])\n",
      "after maxpool torch.Size([1, 64, 152, 152])\n",
      "out_layer1 shape: torch.Size([1, 64, 152, 152])\n",
      "out_layer2 shape: torch.Size([1, 128, 76, 76])\n",
      "out_layer3 shape: torch.Size([1, 256, 38, 38])\n",
      "out_layer4 shape: torch.Size([1, 512, 19, 19])\n",
      "up_layer1 shape: torch.Size([1, 512, 38, 38]) ; out_layer3 torch.Size([1, 256, 38, 38])\n",
      "hm_cen torch.Size([1, 3, 152, 152])\n",
      "cen_offset torch.Size([1, 2, 152, 152])\n",
      "direction torch.Size([1, 2, 152, 152])\n",
      "z_coor torch.Size([1, 1, 152, 152])\n",
      "dim torch.Size([1, 3, 152, 152])\n"
     ]
    }
   ],
   "source": [
    "model.eval()\n",
    "\n",
    "test_dataloader = create_test_dataloader(configs)\n",
    "\n",
    "with torch.no_grad():\n",
    "    for batch_idx, batch_data in enumerate(test_dataloader):\n",
    "        metadatas, bev_maps = batch_data\n",
    "        print(batch_idx, bev_maps.size())\n",
    "        outputs = model(bev_maps.float())\n",
    "        \n",
    "        for k in outputs:\n",
    "            print(k, outputs[k].size())\n",
    "        \n",
    "        if batch_idx > 2:\n",
    "            break\n",
    "        "
   ]
  },
  {
   "cell_type": "code",
   "execution_count": null,
   "id": "0274a1a5",
   "metadata": {},
   "outputs": [],
   "source": [
    "outputs['hm_cen']"
   ]
  },
  {
   "cell_type": "code",
   "execution_count": null,
   "id": "2ae3c1ec",
   "metadata": {},
   "outputs": [],
   "source": []
  },
  {
   "cell_type": "code",
   "execution_count": null,
   "id": "4644e72a",
   "metadata": {},
   "outputs": [],
   "source": []
  },
  {
   "cell_type": "code",
   "execution_count": null,
   "id": "378ba9ac",
   "metadata": {},
   "outputs": [],
   "source": []
  },
  {
   "cell_type": "code",
   "execution_count": null,
   "id": "736aae09",
   "metadata": {},
   "outputs": [],
   "source": []
  },
  {
   "cell_type": "markdown",
   "id": "fa03d018",
   "metadata": {},
   "source": [
    "### 2. Optimizer and lr_scheduler"
   ]
  },
  {
   "cell_type": "code",
   "execution_count": null,
   "id": "34d68232",
   "metadata": {},
   "outputs": [],
   "source": [
    "hasattr(model, 'module')"
   ]
  },
  {
   "cell_type": "code",
   "execution_count": null,
   "id": "baa53284",
   "metadata": {},
   "outputs": [],
   "source": [
    "train_params = [param for param in model.parameters() if param.requires_grad]"
   ]
  },
  {
   "cell_type": "code",
   "execution_count": null,
   "id": "b11af66e",
   "metadata": {},
   "outputs": [],
   "source": [
    "len(train_params)"
   ]
  },
  {
   "cell_type": "code",
   "execution_count": null,
   "id": "90e28696",
   "metadata": {},
   "outputs": [],
   "source": [
    "# learning rate and weight decay configurable, adam as default\n",
    "optimizer = torch.optim.Adam(train_params, lr=0.001, weight_decay=0.0)"
   ]
  },
  {
   "cell_type": "code",
   "execution_count": null,
   "id": "c101c4e2",
   "metadata": {},
   "outputs": [],
   "source": [
    "lr_scheduler = "
   ]
  },
  {
   "cell_type": "code",
   "execution_count": null,
   "id": "21346467",
   "metadata": {},
   "outputs": [],
   "source": []
  },
  {
   "cell_type": "code",
   "execution_count": null,
   "id": "df609a6d",
   "metadata": {},
   "outputs": [],
   "source": []
  },
  {
   "cell_type": "code",
   "execution_count": null,
   "id": "fe49be08",
   "metadata": {},
   "outputs": [],
   "source": []
  },
  {
   "cell_type": "code",
   "execution_count": 17,
   "id": "e2c591ca",
   "metadata": {
    "scrolled": false
   },
   "outputs": [
    {
     "name": "stdout",
     "output_type": "stream",
     "text": [
      "label info: cls_id=1, at (12.81, 5.68, -1.58), h=1.47, w=1.67, l=4.28, yaw=3.05\n",
      "center_x = 38.94; center_y = 93.26\n",
      "label info: cls_id=1, at (18.01, 5.55, -1.50), h=1.38, w=1.67, l=4.37, yaw=-3.02\n",
      "center_x = 54.74; center_y = 92.86\n",
      "label info: cls_id=1, at (8.23, -5.15, -1.53), h=1.54, w=1.58, l=3.20, yaw=-0.01\n",
      "center_x = 25.02; center_y = 60.33\n",
      "label info: cls_id=1, at (5.88, -5.35, -1.55), h=1.51, w=1.72, l=4.03, yaw=-0.01\n",
      "center_x = 17.87; center_y = 59.75\n",
      "label info: cls_id=0, at (28.16, 4.97, -1.46), h=1.88, w=0.67, l=1.18, yaw=2.07\n",
      "center_x = 85.60; center_y = 91.11\n",
      "label info: cls_id=1, at (8.14, -3.29, -1.62), h=1.77, w=1.63, l=4.10, yaw=-1.57\n",
      "center_x = 24.75; center_y = 65.99\n",
      "label info: cls_id=1, at (23.86, -3.36, -1.59), h=1.69, w=1.64, l=4.21, yaw=1.58\n",
      "center_x = 72.54; center_y = 65.78\n",
      "label info: cls_id=1, at (29.52, 3.56, -1.64), h=1.55, w=1.64, l=3.70, yaw=-1.58\n",
      "center_x = 89.74; center_y = 86.83\n",
      "label info: cls_id=1, at (40.45, 1.38, -1.55), h=1.63, w=1.81, l=4.54, yaw=1.48\n",
      "center_x = 122.97; center_y = 80.20\n"
     ]
    }
   ],
   "source": [
    "train_dataloader, train_sampler = create_train_dataloader(configs)\n",
    "\n",
    "metadatas, bev, targets = None, None, None\n",
    "\n",
    "for batch_idx, batch_data in enumerate(train_dataloader):\n",
    "    metadatas, bev, targets = batch_data\n",
    "    \n",
    "    break\n"
   ]
  },
  {
   "cell_type": "code",
   "execution_count": 19,
   "id": "b0ff01b6",
   "metadata": {},
   "outputs": [
    {
     "data": {
      "text/plain": [
       "torch.Size([4, 152, 152])"
      ]
     },
     "execution_count": 19,
     "metadata": {},
     "output_type": "execute_result"
    }
   ],
   "source": [
    "targets['hm_cen'][0].size()"
   ]
  },
  {
   "cell_type": "code",
   "execution_count": 22,
   "id": "ccdadf6b",
   "metadata": {},
   "outputs": [
    {
     "data": {
      "text/plain": [
       "tensor(1.)"
      ]
     },
     "execution_count": 22,
     "metadata": {},
     "output_type": "execute_result"
    }
   ],
   "source": [
    "targets['hm_cen'][0][1][93, 38]"
   ]
  },
  {
   "cell_type": "code",
   "execution_count": 24,
   "id": "30006a2c",
   "metadata": {},
   "outputs": [],
   "source": [
    "import matplotlib.pyplot as plt"
   ]
  },
  {
   "cell_type": "code",
   "execution_count": 25,
   "id": "1330a25c",
   "metadata": {},
   "outputs": [],
   "source": [
    "mat = targets['hm_cen'][0][1].numpy()"
   ]
  },
  {
   "cell_type": "code",
   "execution_count": 26,
   "id": "d52be0b3",
   "metadata": {},
   "outputs": [
    {
     "data": {
      "text/plain": [
       "<matplotlib.image.AxesImage at 0x7f29e913c310>"
      ]
     },
     "execution_count": 26,
     "metadata": {},
     "output_type": "execute_result"
    },
    {
     "data": {
      "image/png": "[encoded data removed]",
      "text/plain": [
       "<Figure size 640x480 with 1 Axes>"
      ]
     },
     "metadata": {},
     "output_type": "display_data"
    }
   ],
   "source": [
    "plt.imshow(mat)"
   ]
  },
  {
   "cell_type": "code",
   "execution_count": 28,
   "id": "a70f52ae",
   "metadata": {},
   "outputs": [
    {
     "data": {
      "text/plain": [
       "array([[0.00315111, 0.02732372, 0.05613476, 0.02732372],\n",
       "       [0.02732372, 0.23692776, 0.48675224, 0.23692776],\n",
       "       [0.05613476, 0.48675224, 1.        , 0.48675224]], dtype=float32)"
      ]
     },
     "execution_count": 28,
     "metadata": {},
     "output_type": "execute_result"
    }
   ],
   "source": [
    "mat[91:94, 36:40]"
   ]
  },
  {
   "cell_type": "code",
   "execution_count": null,
   "id": "311c2c6c",
   "metadata": {},
   "outputs": [],
   "source": []
  }
 ],
 "metadata": {
  "kernelspec": {
   "display_name": "Python 3 (ipykernel)",
   "language": "python",
   "name": "python3"
  },
  "language_info": {
   "codemirror_mode": {
    "name": "ipython",
    "version": 3
   },
   "file_extension": ".py",
   "mimetype": "text/x-python",
   "name": "python",
   "nbconvert_exporter": "python",
   "pygments_lexer": "ipython3",
   "version": "3.10.13"
  }
 },
 "nbformat": 4,
 "nbformat_minor": 5
}
