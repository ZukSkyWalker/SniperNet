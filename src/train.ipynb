{
 "cells": [
  {
   "cell_type": "code",
   "execution_count": 1,
   "id": "17971987",
   "metadata": {},
   "outputs": [],
   "source": [
    "%load_ext autoreload\n",
    "%autoreload 2\n",
    "\n",
    "import torch\n",
    "import json\n",
    "\n",
    "from models import z_yolo\n",
    "from data_process.waymo_dataloader import create_train_dataloader"
   ]
  },
  {
   "cell_type": "code",
   "execution_count": 2,
   "id": "303884cf",
   "metadata": {},
   "outputs": [],
   "source": [
    "configs = {\"dataset_dir\": \"../../Data/waymo_data/\", \"pin_memory\": True, \n",
    "           \"batch_size\": 4, \"num_workers\": 4, \"device\": 'cpu'}\n",
    "\n",
    "train_loader = create_train_dataloader(configs)"
   ]
  },
  {
   "cell_type": "code",
   "execution_count": 3,
   "id": "1ead92bf",
   "metadata": {},
   "outputs": [
    {
     "name": "stdout",
     "output_type": "stream",
     "text": [
      "0 torch.Size([4, 3, 400, 400])\n",
      "1 torch.Size([4, 3, 400, 400])\n",
      "2 torch.Size([4, 3, 400, 400])\n",
      "3 torch.Size([4, 3, 400, 400])\n",
      "4 torch.Size([4, 3, 400, 400])\n",
      "5 torch.Size([4, 3, 400, 400])\n",
      "6 torch.Size([4, 3, 400, 400])\n",
      "7 torch.Size([4, 3, 400, 400])\n",
      "8 torch.Size([4, 3, 400, 400])\n",
      "9 torch.Size([4, 3, 400, 400])\n",
      "10 torch.Size([4, 3, 400, 400])\n",
      "11 torch.Size([4, 3, 400, 400])\n",
      "12 torch.Size([4, 3, 400, 400])\n",
      "13 torch.Size([4, 3, 400, 400])\n",
      "14 torch.Size([4, 3, 400, 400])\n",
      "15 torch.Size([4, 3, 400, 400])\n",
      "16 torch.Size([4, 3, 400, 400])\n",
      "17 torch.Size([4, 3, 400, 400])\n",
      "18 torch.Size([4, 3, 400, 400])\n",
      "19 torch.Size([4, 3, 400, 400])\n",
      "20 torch.Size([4, 3, 400, 400])\n",
      "21 torch.Size([4, 3, 400, 400])\n",
      "22 torch.Size([4, 3, 400, 400])\n",
      "23 torch.Size([4, 3, 400, 400])\n",
      "24 torch.Size([4, 3, 400, 400])\n",
      "25 torch.Size([4, 3, 400, 400])\n",
      "26 torch.Size([4, 3, 400, 400])\n",
      "27 torch.Size([4, 3, 400, 400])\n",
      "28 torch.Size([4, 3, 400, 400])\n",
      "29 torch.Size([4, 3, 400, 400])\n",
      "30 torch.Size([4, 3, 400, 400])\n",
      "31 torch.Size([4, 3, 400, 400])\n",
      "32 torch.Size([4, 3, 400, 400])\n",
      "33 torch.Size([4, 3, 400, 400])\n",
      "34 torch.Size([4, 3, 400, 400])\n",
      "35 torch.Size([4, 3, 400, 400])\n",
      "36 torch.Size([4, 3, 400, 400])\n",
      "37 torch.Size([4, 3, 400, 400])\n",
      "38 torch.Size([4, 3, 400, 400])\n",
      "39 torch.Size([4, 3, 400, 400])\n",
      "40 torch.Size([4, 3, 400, 400])\n",
      "41 torch.Size([4, 3, 400, 400])\n",
      "42 torch.Size([4, 3, 400, 400])\n",
      "43 torch.Size([4, 3, 400, 400])\n",
      "44 torch.Size([4, 3, 400, 400])\n",
      "45 torch.Size([4, 3, 400, 400])\n",
      "46 torch.Size([4, 3, 400, 400])\n",
      "47 torch.Size([4, 3, 400, 400])\n",
      "48 torch.Size([4, 3, 400, 400])\n",
      "49 torch.Size([2, 3, 400, 400])\n"
     ]
    }
   ],
   "source": [
    "model = z_yolo.Zolo()\n",
    "\n",
    "for batch_idx, batch_data in enumerate(train_loader):\n",
    "#     print(batch_data['bev'])\n",
    "    outputs = model(batch_data['bev'].float())\n",
    "    outputs\n",
    "    print(batch_idx, outputs['class_type'].size())\n",
    "    "
   ]
  },
  {
   "cell_type": "code",
   "execution_count": null,
   "id": "c81e6d21",
   "metadata": {},
   "outputs": [],
   "source": [
    "batch_data['bev'].float()"
   ]
  },
  {
   "cell_type": "code",
   "execution_count": null,
   "id": "d2388020",
   "metadata": {},
   "outputs": [],
   "source": []
  },
  {
   "cell_type": "code",
   "execution_count": null,
   "id": "20e0b3cd",
   "metadata": {},
   "outputs": [],
   "source": []
  },
  {
   "cell_type": "code",
   "execution_count": null,
   "id": "075779c4",
   "metadata": {},
   "outputs": [],
   "source": [
    "x = torch.load(\"../../Data/waymo_data/pt12/segment-6791933003490312185_2607_000_2627_000_with_camera_labels0.pt\", map_location=torch.device('cpu'))"
   ]
  },
  {
   "cell_type": "code",
   "execution_count": null,
   "id": "5f890924",
   "metadata": {},
   "outputs": [],
   "source": [
    "x"
   ]
  },
  {
   "cell_type": "code",
   "execution_count": null,
   "id": "1b544ce2",
   "metadata": {},
   "outputs": [],
   "source": []
  },
  {
   "cell_type": "code",
   "execution_count": null,
   "id": "f1198365",
   "metadata": {},
   "outputs": [],
   "source": []
  },
  {
   "cell_type": "code",
   "execution_count": null,
   "id": "b5c4b9b7",
   "metadata": {},
   "outputs": [],
   "source": []
  },
  {
   "cell_type": "code",
   "execution_count": null,
   "id": "7582714a",
   "metadata": {},
   "outputs": [],
   "source": []
  },
  {
   "cell_type": "code",
   "execution_count": null,
   "id": "99a3b8c4",
   "metadata": {},
   "outputs": [],
   "source": [
    "model.eval()"
   ]
  },
  {
   "cell_type": "code",
   "execution_count": null,
   "id": "b6bdd4db",
   "metadata": {},
   "outputs": [],
   "source": []
  },
  {
   "cell_type": "code",
   "execution_count": null,
   "id": "b6646bd2",
   "metadata": {},
   "outputs": [],
   "source": []
  },
  {
   "cell_type": "code",
   "execution_count": null,
   "id": "6fdb2611",
   "metadata": {},
   "outputs": [],
   "source": []
  },
  {
   "cell_type": "code",
   "execution_count": null,
   "id": "4f128064",
   "metadata": {},
   "outputs": [],
   "source": []
  },
  {
   "cell_type": "code",
   "execution_count": null,
   "id": "3cd4fe6a",
   "metadata": {},
   "outputs": [],
   "source": [
    "with open(\"../cfg/cfg.json\") as f:\n",
    "    configs = json.load(f)"
   ]
  },
  {
   "cell_type": "code",
   "execution_count": null,
   "id": "abb3ae98",
   "metadata": {},
   "outputs": [],
   "source": [
    "configs"
   ]
  },
  {
   "cell_type": "markdown",
   "id": "06672b6a",
   "metadata": {},
   "source": [
    "### 1. Model\n",
    "\n",
    "Try fpn_resnet_18 for default.\n",
    "\n",
    "* model:      fpn_resnet\n",
    "* num_layers: 18\n",
    "* heads:      configs.heads = {\n",
    "        'hm_cen': configs.num_classes,\n",
    "        'cen_offset': configs.num_center_offset,\n",
    "        'direction': configs.num_direction,\n",
    "        'z_coor': configs.num_z,\n",
    "        'dim': configs.num_dim\n",
    "    }\n",
    "    \n",
    "* head_conv:  64\n",
    "\n",
    "* configs.imagenet_pretrained = True\n",
    "* configs.head_conv = 64\n",
    "* configs.num_classes = 3\n",
    "* configs.num_center_offset = 2\n",
    "* configs.num_z = 1\n",
    "* configs.num_dim = 3\n",
    "* configs.num_direction = 2  # sin, cos\n"
   ]
  },
  {
   "cell_type": "code",
   "execution_count": null,
   "id": "9903e49c",
   "metadata": {},
   "outputs": [],
   "source": [
    "configs['batch_size'] = 1\n",
    "configs['num_workers'] = 1\n",
    "heads_cfg = {'hm_cen': 3, 'cen_offset': 2, 'direction': 2, 'z_coor': 1, 'dim': 3}\n",
    "model = fpn_resnet.get_pose_net(num_layers=18, heads=heads_cfg, head_conv=64, imagenet_pretrained=True)"
   ]
  },
  {
   "cell_type": "code",
   "execution_count": null,
   "id": "49e9893f",
   "metadata": {},
   "outputs": [],
   "source": [
    "from data_process.kitti_dataloader import create_train_dataloader, create_val_dataloader, create_test_dataloader\n",
    "\n",
    "model.eval()\n",
    "\n",
    "test_dataloader = create_test_dataloader(configs)\n",
    "\n",
    "with torch.no_grad():\n",
    "    for batch_idx, batch_data in enumerate(test_dataloader):\n",
    "        metadatas, bev_maps = batch_data\n",
    "        print(batch_idx, bev_maps.size())\n",
    "        outputs = model(bev_maps.float())\n",
    "        \n",
    "        for k in outputs:\n",
    "            print(k, outputs[k].size())\n",
    "        \n",
    "        if batch_idx > 2:\n",
    "            break\n",
    "        "
   ]
  },
  {
   "cell_type": "code",
   "execution_count": null,
   "id": "0274a1a5",
   "metadata": {},
   "outputs": [],
   "source": [
    "outputs['hm_cen']"
   ]
  },
  {
   "cell_type": "code",
   "execution_count": null,
   "id": "2ae3c1ec",
   "metadata": {},
   "outputs": [],
   "source": []
  },
  {
   "cell_type": "code",
   "execution_count": null,
   "id": "4644e72a",
   "metadata": {},
   "outputs": [],
   "source": []
  },
  {
   "cell_type": "code",
   "execution_count": null,
   "id": "378ba9ac",
   "metadata": {},
   "outputs": [],
   "source": []
  },
  {
   "cell_type": "code",
   "execution_count": null,
   "id": "736aae09",
   "metadata": {},
   "outputs": [],
   "source": []
  },
  {
   "cell_type": "markdown",
   "id": "fa03d018",
   "metadata": {},
   "source": [
    "### 2. Optimizer and lr_scheduler"
   ]
  },
  {
   "cell_type": "code",
   "execution_count": null,
   "id": "34d68232",
   "metadata": {},
   "outputs": [],
   "source": [
    "hasattr(model, 'module')"
   ]
  },
  {
   "cell_type": "code",
   "execution_count": null,
   "id": "baa53284",
   "metadata": {},
   "outputs": [],
   "source": [
    "train_params = [param for param in model.parameters() if param.requires_grad]"
   ]
  },
  {
   "cell_type": "code",
   "execution_count": null,
   "id": "b11af66e",
   "metadata": {},
   "outputs": [],
   "source": [
    "len(train_params)"
   ]
  },
  {
   "cell_type": "code",
   "execution_count": null,
   "id": "90e28696",
   "metadata": {},
   "outputs": [],
   "source": [
    "# learning rate and weight decay configurable, adam as default\n",
    "optimizer = torch.optim.Adam(train_params, lr=0.001, weight_decay=0.0)"
   ]
  },
  {
   "cell_type": "code",
   "execution_count": null,
   "id": "c101c4e2",
   "metadata": {},
   "outputs": [],
   "source": [
    "lr_scheduler = "
   ]
  },
  {
   "cell_type": "code",
   "execution_count": null,
   "id": "21346467",
   "metadata": {},
   "outputs": [],
   "source": []
  },
  {
   "cell_type": "code",
   "execution_count": null,
   "id": "df609a6d",
   "metadata": {},
   "outputs": [],
   "source": []
  },
  {
   "cell_type": "code",
   "execution_count": null,
   "id": "fe49be08",
   "metadata": {},
   "outputs": [],
   "source": []
  },
  {
   "cell_type": "code",
   "execution_count": null,
   "id": "e2c591ca",
   "metadata": {
    "scrolled": false
   },
   "outputs": [],
   "source": [
    "train_dataloader, train_sampler = create_train_dataloader(configs)\n",
    "\n",
    "metadatas, bev, targets = None, None, None\n",
    "\n",
    "for batch_idx, batch_data in enumerate(train_dataloader):\n",
    "    metadatas, bev, targets = batch_data\n",
    "    \n",
    "    break\n"
   ]
  },
  {
   "cell_type": "code",
   "execution_count": null,
   "id": "b0ff01b6",
   "metadata": {},
   "outputs": [],
   "source": [
    "targets['hm_cen'][0].size()"
   ]
  },
  {
   "cell_type": "code",
   "execution_count": null,
   "id": "ccdadf6b",
   "metadata": {},
   "outputs": [],
   "source": [
    "targets['hm_cen'][0][1][93, 38]"
   ]
  },
  {
   "cell_type": "code",
   "execution_count": null,
   "id": "30006a2c",
   "metadata": {},
   "outputs": [],
   "source": [
    "import matplotlib.pyplot as plt"
   ]
  },
  {
   "cell_type": "code",
   "execution_count": null,
   "id": "1330a25c",
   "metadata": {},
   "outputs": [],
   "source": [
    "mat = targets['hm_cen'][0][1].numpy()"
   ]
  },
  {
   "cell_type": "code",
   "execution_count": null,
   "id": "d52be0b3",
   "metadata": {},
   "outputs": [],
   "source": [
    "plt.imshow(mat)"
   ]
  },
  {
   "cell_type": "code",
   "execution_count": null,
   "id": "a70f52ae",
   "metadata": {},
   "outputs": [],
   "source": [
    "mat[91:94, 36:40]"
   ]
  },
  {
   "cell_type": "code",
   "execution_count": null,
   "id": "311c2c6c",
   "metadata": {},
   "outputs": [],
   "source": []
  }
 ],
 "metadata": {
  "kernelspec": {
   "display_name": "Python 3 (ipykernel)",
   "language": "python",
   "name": "python3"
  },
  "language_info": {
   "codemirror_mode": {
    "name": "ipython",
    "version": 3
   },
   "file_extension": ".py",
   "mimetype": "text/x-python",
   "name": "python",
   "nbconvert_exporter": "python",
   "pygments_lexer": "ipython3",
   "version": "3.10.13"
  }
 },
 "nbformat": 4,
 "nbformat_minor": 5
}
