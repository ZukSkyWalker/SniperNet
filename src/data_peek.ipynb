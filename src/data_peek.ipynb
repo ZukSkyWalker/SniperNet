{
 "cells": [
  {
   "cell_type": "code",
   "execution_count": 1,
   "id": "a63a8ef9",
   "metadata": {},
   "outputs": [],
   "source": [
    "%load_ext autoreload\n",
    "%autoreload 2\n",
    "\n",
    "import numpy as np\n",
    "import torch\n",
    "import cv2\n",
    "import os\n",
    "import json\n",
    "import plotly.graph_objects as go\n",
    "\n",
    "from data_process import feature_map"
   ]
  },
  {
   "cell_type": "code",
   "execution_count": 2,
   "id": "20e05215",
   "metadata": {},
   "outputs": [],
   "source": [
    "with open(\"../cfg/cfg.json\") as f:\n",
    "    cfg = json.load(f)"
   ]
  },
  {
   "cell_type": "code",
   "execution_count": 3,
   "id": "c3bff1f1",
   "metadata": {},
   "outputs": [],
   "source": [
    "dataset_dir = cfg['dataset_dir']\n",
    "\n",
    "image_dir = os.path.join(dataset_dir, \"training\", \"image_2\")\n",
    "lidar_dir = os.path.join(dataset_dir, \"training\", \"velodyne\")\n",
    "calib_dir = os.path.join(dataset_dir, \"training\", \"calib\")\n",
    "label_dir = os.path.join(dataset_dir, \"training\", \"label_2\")"
   ]
  },
  {
   "cell_type": "code",
   "execution_count": 4,
   "id": "7707d885",
   "metadata": {},
   "outputs": [],
   "source": [
    "def get_lidar(idx):\n",
    "    lidar_file = os.path.join(lidar_dir, f\"{idx:06d}.bin\")\n",
    "    return np.fromfile(lidar_file, dtype=np.float32).reshape(-1, 4)\n",
    "\n",
    "def get_image(self, idx):\n",
    "    img_path = os.path.join(self.image_dir, f'{idx:06d}.png')\n",
    "    img = cv2.cvtColor(cv2.imread(img_path), cv2.COLOR_BGR2RGB)\n",
    "\n",
    "    return img_path, img\n",
    "\n",
    "def get_calib(self, idx):\n",
    "    calib_file = os.path.join(self.calib_dir, f'{idx:06d}.txt')\n",
    "    # assert os.path.isfile(calib_file)\n",
    "    return Calibration(calib_file)\n",
    "\n",
    "CLASS_NAME_TO_ID = {\n",
    "    'Pedestrian': 0,\n",
    "    'Car': 1,\n",
    "    'Cyclist': 2,\n",
    "    'Van': 1,\n",
    "    'Truck': -3,\n",
    "    'Person_sitting': 0,\n",
    "    'Tram': -99,\n",
    "    'Misc': -99,\n",
    "    'DontCare': -1\n",
    "}\n",
    "\n",
    "def get_label(idx):\n",
    "    labels = []\n",
    "    label_path = os.path.join(self.label_dir, f'{idx:06d}.txt')\n",
    "    for line in open(label_path, 'r'):\n",
    "        line = line.rstrip()\n",
    "        line_parts = line.split(' ')\n",
    "        obj_name = line_parts[0]  # 'Car', 'Pedestrian', ...\n",
    "        cat_id = int(CLASS_NAME_TO_ID[obj_name])\n",
    "        if cat_id <= -99:  # ignore Tram and Misc\n",
    "            continue\n",
    "        '''\n",
    "        truncated = int(float(line_parts[1]))  # truncated pixel ratio [0..1]\n",
    "        occluded = int(line_parts[2])  # 0=visible, 1=partly occluded, 2=fully occluded, 3=unknown\n",
    "        alpha = float(line_parts[3])  # object observation angle [-pi..pi]\n",
    "        # xmin, ymin, xmax, ymax\n",
    "        bbox = np.array([float(line_parts[4]), float(line_parts[5]), float(line_parts[6]), float(line_parts[7])])\n",
    "        '''\n",
    "\n",
    "        # height, width, length (h, w, l)\n",
    "        h, w, l = float(line_parts[8]), float(line_parts[9]), float(line_parts[10])\n",
    "        # location (x,y,z) in camera coord.\n",
    "        x, y, z = float(line_parts[11]), float(line_parts[12]), float(line_parts[13])\n",
    "        ry = float(line_parts[14])  # yaw angle (around Y-axis in camera coordinates) [-pi..pi]\n",
    "\n",
    "        object_label = [cat_id, x, y, z, h, w, l, ry]\n",
    "        labels.append(object_label)\n",
    "\n",
    "    if len(labels) == 0:\n",
    "        labels = np.zeros((1, 8), dtype=np.float32)\n",
    "        has_labels = False\n",
    "    else:\n",
    "        labels = np.array(labels, dtype=np.float32)\n",
    "        has_labels = True\n",
    "\n",
    "    return labels, has_labels"
   ]
  },
  {
   "cell_type": "code",
   "execution_count": 5,
   "id": "2f64f4cc",
   "metadata": {},
   "outputs": [],
   "source": [
    "point_cloud = get_lidar(6)"
   ]
  },
  {
   "cell_type": "code",
   "execution_count": 6,
   "id": "50f5a33c",
   "metadata": {},
   "outputs": [],
   "source": [
    "frm = feature_map.frame(point_cloud, cfg)"
   ]
  },
  {
   "cell_type": "code",
   "execution_count": 7,
   "id": "a4cf363a",
   "metadata": {},
   "outputs": [
    {
     "data": {
      "text/plain": [
       "(109149, 4)"
      ]
     },
     "execution_count": 7,
     "metadata": {},
     "output_type": "execute_result"
    }
   ],
   "source": [
    "frm.pos.shape"
   ]
  },
  {
   "cell_type": "code",
   "execution_count": null,
   "id": "81b65e76",
   "metadata": {},
   "outputs": [],
   "source": [
    "def plot_frame(pos):\n",
    "    data = [go.Scatter3d(x=pos[:, 0],\n",
    "                         y=pos[:, 1],\n",
    "                         z=pos[:, 2],\n",
    "                         mode = 'markers',\n",
    "                         marker=dict(size=1, opacity=0.5, color=pos[:, 3]))]\n",
    "\n",
    "    fig = go.Figure(data=data)\n",
    "    fig.update_layout(title=\"frame\", template='plotly_dark', scene=dict(aspectmode='data'))\n",
    "    fig.show()"
   ]
  },
  {
   "cell_type": "code",
   "execution_count": null,
   "id": "37048c5f",
   "metadata": {},
   "outputs": [],
   "source": [
    "plot_frame(frm.pos)"
   ]
  },
  {
   "cell_type": "code",
   "execution_count": null,
   "id": "1a143513",
   "metadata": {},
   "outputs": [],
   "source": []
  },
  {
   "cell_type": "code",
   "execution_count": 12,
   "id": "9956e2f1",
   "metadata": {},
   "outputs": [
    {
     "name": "stdout",
     "output_type": "stream",
     "text": [
      "Function 'set_bev_map_cpu' executed in 0.1595s\n"
     ]
    }
   ],
   "source": [
    "base_map_sup, height_map_sup, density_map_sup = frm.set_bev_map_cpu()"
   ]
  },
  {
   "cell_type": "code",
   "execution_count": null,
   "id": "0ada48b0",
   "metadata": {},
   "outputs": [],
   "source": [
    "frm.pos[1], frm.pos[2]"
   ]
  },
  {
   "cell_type": "code",
   "execution_count": null,
   "id": "90742c4b",
   "metadata": {},
   "outputs": [],
   "source": []
  },
  {
   "cell_type": "code",
   "execution_count": null,
   "id": "34fc58e1",
   "metadata": {},
   "outputs": [],
   "source": []
  },
  {
   "cell_type": "code",
   "execution_count": null,
   "id": "846896da",
   "metadata": {},
   "outputs": [],
   "source": []
  },
  {
   "cell_type": "code",
   "execution_count": null,
   "id": "b09e90a1",
   "metadata": {},
   "outputs": [],
   "source": [
    "frm.set_bev_map(cfg)\n",
    "\n",
    "frm.base_map"
   ]
  },
  {
   "cell_type": "code",
   "execution_count": null,
   "id": "5ce1bf3e",
   "metadata": {},
   "outputs": [],
   "source": [
    "arr = np.array([1,2,2,3,4,4,5,6,7,7,7,7])\n",
    "unique_elements, element_counts = np.unique(arr, return_counts=True)"
   ]
  },
  {
   "cell_type": "code",
   "execution_count": null,
   "id": "4b82f19c",
   "metadata": {},
   "outputs": [],
   "source": [
    "unique_elements, element_counts"
   ]
  },
  {
   "cell_type": "code",
   "execution_count": null,
   "id": "db7034e7",
   "metadata": {},
   "outputs": [],
   "source": [
    "np.where(arr[:2] > 2)"
   ]
  },
  {
   "cell_type": "code",
   "execution_count": null,
   "id": "cbb184b4",
   "metadata": {},
   "outputs": [],
   "source": []
  },
  {
   "cell_type": "code",
   "execution_count": null,
   "id": "593b4bee",
   "metadata": {},
   "outputs": [],
   "source": []
  },
  {
   "cell_type": "code",
   "execution_count": null,
   "id": "48e2d519",
   "metadata": {},
   "outputs": [],
   "source": []
  },
  {
   "cell_type": "code",
   "execution_count": null,
   "id": "7b6b5e54",
   "metadata": {},
   "outputs": [],
   "source": [
    "cnts, edges = np.histogram(point_cloud[:, 2], bins=np.arange(-3,1,0.05))"
   ]
  },
  {
   "cell_type": "code",
   "execution_count": null,
   "id": "dca72b81",
   "metadata": {},
   "outputs": [],
   "source": [
    "cnts.shape, edges.shape"
   ]
  },
  {
   "cell_type": "code",
   "execution_count": null,
   "id": "86960a90",
   "metadata": {},
   "outputs": [],
   "source": [
    "np.where(cnts > 10)[0]"
   ]
  },
  {
   "cell_type": "code",
   "execution_count": null,
   "id": "bc3f368c",
   "metadata": {},
   "outputs": [],
   "source": [
    "point_cloud.shape"
   ]
  },
  {
   "cell_type": "code",
   "execution_count": null,
   "id": "10c04f5f",
   "metadata": {},
   "outputs": [],
   "source": []
  },
  {
   "cell_type": "code",
   "execution_count": null,
   "id": "7060bb17",
   "metadata": {},
   "outputs": [],
   "source": [
    "plt.hist(point_cloud[:, 2], bins=np.arange(-3, 3, 0.1), log=True)"
   ]
  },
  {
   "cell_type": "code",
   "execution_count": null,
   "id": "f7dd2e36",
   "metadata": {},
   "outputs": [],
   "source": []
  },
  {
   "cell_type": "code",
   "execution_count": null,
   "id": "88f75efa",
   "metadata": {},
   "outputs": [],
   "source": [
    "from util.timing import timer_func\n",
    "from time import time"
   ]
  },
  {
   "cell_type": "code",
   "execution_count": null,
   "id": "df35b52e",
   "metadata": {},
   "outputs": [],
   "source": []
  },
  {
   "cell_type": "code",
   "execution_count": null,
   "id": "31c9af7c",
   "metadata": {},
   "outputs": [],
   "source": [
    "t0 = time()\n",
    "\n",
    "# Voxelize the pixels\n",
    "NX = NY = 1024\n",
    "in_range = (np.abs(point_cloud[:, 0]) < 64) & (np.abs(point_cloud[:, 1]) < 64)\n",
    "point_cloud = point_cloud[in_range]\n",
    "\n",
    "ixs = (point_cloud[:, 0] + 64).astype(np.uint16)\n",
    "iys = (point_cloud[:, 1] + 64).astype(np.uint16)\n",
    "\n",
    "\n",
    "print(f\"time cost: {time()-t0:.2g}s\")"
   ]
  },
  {
   "cell_type": "code",
   "execution_count": null,
   "id": "76e798e7",
   "metadata": {},
   "outputs": [],
   "source": [
    "point_cloud[:, 2].min(), point_cloud[:, 2].max()"
   ]
  },
  {
   "cell_type": "code",
   "execution_count": null,
   "id": "3b3f9d43",
   "metadata": {},
   "outputs": [],
   "source": []
  },
  {
   "cell_type": "code",
   "execution_count": null,
   "id": "71a56372",
   "metadata": {},
   "outputs": [],
   "source": [
    "h_map = torch.full((nx, ny), )"
   ]
  }
 ],
 "metadata": {
  "kernelspec": {
   "display_name": "Python 3 (ipykernel)",
   "language": "python",
   "name": "python3"
  },
  "language_info": {
   "codemirror_mode": {
    "name": "ipython",
    "version": 3
   },
   "file_extension": ".py",
   "mimetype": "text/x-python",
   "name": "python",
   "nbconvert_exporter": "python",
   "pygments_lexer": "ipython3",
   "version": "3.10.12"
  }
 },
 "nbformat": 4,
 "nbformat_minor": 5
}
